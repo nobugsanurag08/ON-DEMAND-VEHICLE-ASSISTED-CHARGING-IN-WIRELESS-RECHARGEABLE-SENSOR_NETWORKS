{
  "nbformat": 4,
  "nbformat_minor": 0,
  "metadata": {
    "colab": {
      "name": "summerInternship.ipynb",
      "provenance": [],
      "collapsed_sections": []
    },
    "kernelspec": {
      "name": "python3",
      "display_name": "Python 3"
    },
    "language_info": {
      "name": "python"
    }
  },
  "cells": [
    {
      "cell_type": "code",
      "source": [
        "import threading\n",
        "import time"
      ],
      "metadata": {
        "id": "3Bv0pL03cwml"
      },
      "execution_count": 11,
      "outputs": []
    },
    {
      "cell_type": "code",
      "source": [
        "class point:\n",
        "    def __init__(self, x=0, y=0):\n",
        "        self.x = x;\n",
        "        self.y = y;"
      ],
      "metadata": {
        "id": "dQCAMR8qdZOO"
      },
      "execution_count": 12,
      "outputs": []
    },
    {
      "cell_type": "code",
      "source": [
        "class Vehicle:\n",
        "    def __init__(self, vid = -1, capacity=0, pos=point(), telapsed=0, tour=[], countCharged=0,t=0):\n",
        "        self.capacity = capacity\n",
        "        self.pos = pos\n",
        "        self.telapsed = telapsed\n",
        "        self.tour = tour\n",
        "        self.countCharged = countCharged\n",
        "        self.vid = vid\n",
        "        self.t = t"
      ],
      "metadata": {
        "id": "W6qvjH2ydcD9"
      },
      "execution_count": 13,
      "outputs": []
    },
    {
      "cell_type": "code",
      "source": [
        "class Sensor:\n",
        "    def __init__(self, pos=point(), capacity=0, RL=0, RC=0, vid = -1, t = 0):\n",
        "        self.pos = pos\n",
        "        self.capacity = capacity\n",
        "        self.RL = RL\n",
        "        self.RC = RC\n",
        "        self.vid = vid\n",
        "        self.t = t"
      ],
      "metadata": {
        "id": "tq5XQgERdeRb"
      },
      "execution_count": 14,
      "outputs": []
    },
    {
      "cell_type": "code",
      "source": [
        "consumerate_max = 10 # mj/s  (1-10)mj/s\n",
        "\n",
        "import random\n",
        "\n",
        "sensors = []\n",
        "Sensors = []"
      ],
      "metadata": {
        "id": "eSXn_hUSdkKS"
      },
      "execution_count": 15,
      "outputs": []
    },
    {
      "cell_type": "code",
      "source": [
        "f = open(\"/content/sample_data/input_directory/input1.txt\",'r')\n",
        "n= int(f.readline())\n",
        "capacity=int(f.readline())\n",
        "print(capacity)\n",
        "RL = capacity / consumerate_max\n",
        "RC = capacity\n",
        "\n",
        "for i in range(1, n + 1):\n",
        "    x,y = f.readline().split(\" \")\n",
        "    x = int(x)\n",
        "    y = int(y)\n",
        "    p = point(x, y)\n",
        "    s = Sensor(point(x, y), capacity, RL, RC)\n",
        "    s.RL = RL\n",
        "    s.RC = RC\n",
        "\n",
        "    Sensors.append(s)\n",
        "    sensors.append(p)\n",
        "f.close();\n",
        "\n",
        "for i in range(1, n + 1):\n",
        "    print(\"(\", Sensors[i - 1].pos.x, \",\", Sensors[i - 1].pos.y, \") \", Sensors[i - 1].RL, \"   \", Sensors[i - 1].capacity,\"  \",Sensors[i - 1].RC)"
      ],
      "metadata": {
        "colab": {
          "base_uri": "https://localhost:8080/"
        },
        "id": "1mqrS-Cydm0Y",
        "outputId": "0afd9454-7b2d-453e-8aa3-2bb3089744d6"
      },
      "execution_count": 17,
      "outputs": [
        {
          "output_type": "stream",
          "name": "stdout",
          "text": [
            "10800000\n",
            "( 847 , 970 )  1080000.0     10800000    10800000\n",
            "( 591 , 483 )  1080000.0     10800000    10800000\n",
            "( 965 , 310 )  1080000.0     10800000    10800000\n",
            "( 415 , 966 )  1080000.0     10800000    10800000\n",
            "( 627 , 920 )  1080000.0     10800000    10800000\n",
            "( 555 , 907 )  1080000.0     10800000    10800000\n",
            "( 418 , 532 )  1080000.0     10800000    10800000\n",
            "( 561 , 174 )  1080000.0     10800000    10800000\n",
            "( 535 , 459 )  1080000.0     10800000    10800000\n",
            "( 129 , 901 )  1080000.0     10800000    10800000\n",
            "( 316 , 871 )  1080000.0     10800000    10800000\n",
            "( 747 , 181 )  1080000.0     10800000    10800000\n",
            "( 573 , 83 )  1080000.0     10800000    10800000\n",
            "( 930 , 515 )  1080000.0     10800000    10800000\n",
            "( 729 , 269 )  1080000.0     10800000    10800000\n",
            "( 939 , 510 )  1080000.0     10800000    10800000\n",
            "( 187 , 672 )  1080000.0     10800000    10800000\n",
            "( 114 , 486 )  1080000.0     10800000    10800000\n",
            "( 66 , 218 )  1080000.0     10800000    10800000\n",
            "( 430 , 641 )  1080000.0     10800000    10800000\n",
            "( 431 , 10 )  1080000.0     10800000    10800000\n",
            "( 806 , 202 )  1080000.0     10800000    10800000\n",
            "( 426 , 337 )  1080000.0     10800000    10800000\n",
            "( 955 , 319 )  1080000.0     10800000    10800000\n",
            "( 756 , 176 )  1080000.0     10800000    10800000\n",
            "( 588 , 869 )  1080000.0     10800000    10800000\n",
            "( 29 , 29 )  1080000.0     10800000    10800000\n",
            "( 842 , 929 )  1080000.0     10800000    10800000\n",
            "( 287 , 655 )  1080000.0     10800000    10800000\n",
            "( 540 , 614 )  1080000.0     10800000    10800000\n",
            "( 397 , 905 )  1080000.0     10800000    10800000\n",
            "( 546 , 642 )  1080000.0     10800000    10800000\n",
            "( 282 , 906 )  1080000.0     10800000    10800000\n",
            "( 714 , 64 )  1080000.0     10800000    10800000\n",
            "( 476 , 907 )  1080000.0     10800000    10800000\n",
            "( 836 , 329 )  1080000.0     10800000    10800000\n",
            "( 141 , 361 )  1080000.0     10800000    10800000\n",
            "( 990 , 612 )  1080000.0     10800000    10800000\n",
            "( 224 , 272 )  1080000.0     10800000    10800000\n",
            "( 235 , 351 )  1080000.0     10800000    10800000\n",
            "( 803 , 990 )  1080000.0     10800000    10800000\n",
            "( 516 , 888 )  1080000.0     10800000    10800000\n",
            "( 272 , 356 )  1080000.0     10800000    10800000\n",
            "( 200 , 387 )  1080000.0     10800000    10800000\n",
            "( 161 , 303 )  1080000.0     10800000    10800000\n",
            "( 375 , 397 )  1080000.0     10800000    10800000\n",
            "( 291 , 221 )  1080000.0     10800000    10800000\n",
            "( 428 , 482 )  1080000.0     10800000    10800000\n",
            "( 150 , 153 )  1080000.0     10800000    10800000\n",
            "( 848 , 62 )  1080000.0     10800000    10800000\n",
            "( 384 , 341 )  1080000.0     10800000    10800000\n",
            "( 510 , 734 )  1080000.0     10800000    10800000\n",
            "( 754 , 235 )  1080000.0     10800000    10800000\n",
            "( 548 , 520 )  1080000.0     10800000    10800000\n",
            "( 414 , 973 )  1080000.0     10800000    10800000\n",
            "( 617 , 319 )  1080000.0     10800000    10800000\n",
            "( 704 , 140 )  1080000.0     10800000    10800000\n",
            "( 60 , 137 )  1080000.0     10800000    10800000\n",
            "( 122 , 645 )  1080000.0     10800000    10800000\n",
            "( 459 , 6 )  1080000.0     10800000    10800000\n",
            "( 392 , 67 )  1080000.0     10800000    10800000\n",
            "( 33 , 375 )  1080000.0     10800000    10800000\n",
            "( 843 , 598 )  1080000.0     10800000    10800000\n",
            "( 313 , 853 )  1080000.0     10800000    10800000\n",
            "( 597 , 597 )  1080000.0     10800000    10800000\n",
            "( 932 , 107 )  1080000.0     10800000    10800000\n",
            "( 231 , 633 )  1080000.0     10800000    10800000\n",
            "( 927 , 949 )  1080000.0     10800000    10800000\n",
            "( 46 , 82 )  1080000.0     10800000    10800000\n",
            "( 476 , 771 )  1080000.0     10800000    10800000\n",
            "( 422 , 308 )  1080000.0     10800000    10800000\n",
            "( 510 , 950 )  1080000.0     10800000    10800000\n",
            "( 407 , 555 )  1080000.0     10800000    10800000\n",
            "( 921 , 301 )  1080000.0     10800000    10800000\n",
            "( 981 , 566 )  1080000.0     10800000    10800000\n",
            "( 162 , 858 )  1080000.0     10800000    10800000\n",
            "( 16 , 118 )  1080000.0     10800000    10800000\n",
            "( 613 , 924 )  1080000.0     10800000    10800000\n",
            "( 465 , 285 )  1080000.0     10800000    10800000\n",
            "( 793 , 314 )  1080000.0     10800000    10800000\n",
            "( 807 , 109 )  1080000.0     10800000    10800000\n",
            "( 286 , 613 )  1080000.0     10800000    10800000\n",
            "( 171 , 879 )  1080000.0     10800000    10800000\n",
            "( 803 , 778 )  1080000.0     10800000    10800000\n",
            "( 51 , 400 )  1080000.0     10800000    10800000\n",
            "( 186 , 336 )  1080000.0     10800000    10800000\n",
            "( 592 , 176 )  1080000.0     10800000    10800000\n",
            "( 272 , 547 )  1080000.0     10800000    10800000\n",
            "( 501 , 279 )  1080000.0     10800000    10800000\n",
            "( 52 , 681 )  1080000.0     10800000    10800000\n",
            "( 915 , 82 )  1080000.0     10800000    10800000\n",
            "( 94 , 928 )  1080000.0     10800000    10800000\n",
            "( 884 , 697 )  1080000.0     10800000    10800000\n",
            "( 992 , 528 )  1080000.0     10800000    10800000\n",
            "( 771 , 884 )  1080000.0     10800000    10800000\n",
            "( 209 , 172 )  1080000.0     10800000    10800000\n",
            "( 334 , 883 )  1080000.0     10800000    10800000\n",
            "( 346 , 760 )  1080000.0     10800000    10800000\n",
            "( 629 , 961 )  1080000.0     10800000    10800000\n",
            "( 550 , 235 )  1080000.0     10800000    10800000\n",
            "( 59 , 573 )  1080000.0     10800000    10800000\n",
            "( 718 , 167 )  1080000.0     10800000    10800000\n",
            "( 821 , 9 )  1080000.0     10800000    10800000\n",
            "( 207 , 795 )  1080000.0     10800000    10800000\n",
            "( 156 , 172 )  1080000.0     10800000    10800000\n",
            "( 115 , 484 )  1080000.0     10800000    10800000\n",
            "( 229 , 449 )  1080000.0     10800000    10800000\n",
            "( 543 , 677 )  1080000.0     10800000    10800000\n",
            "( 749 , 518 )  1080000.0     10800000    10800000\n",
            "( 308 , 43 )  1080000.0     10800000    10800000\n",
            "( 221 , 832 )  1080000.0     10800000    10800000\n",
            "( 641 , 510 )  1080000.0     10800000    10800000\n",
            "( 487 , 845 )  1080000.0     10800000    10800000\n",
            "( 304 , 254 )  1080000.0     10800000    10800000\n",
            "( 619 , 149 )  1080000.0     10800000    10800000\n",
            "( 340 , 998 )  1080000.0     10800000    10800000\n",
            "( 238 , 758 )  1080000.0     10800000    10800000\n",
            "( 822 , 232 )  1080000.0     10800000    10800000\n",
            "( 984 , 226 )  1080000.0     10800000    10800000\n",
            "( 661 , 124 )  1080000.0     10800000    10800000\n",
            "( 536 , 77 )  1080000.0     10800000    10800000\n",
            "( 710 , 668 )  1080000.0     10800000    10800000\n",
            "( 237 , 531 )  1080000.0     10800000    10800000\n",
            "( 961 , 564 )  1080000.0     10800000    10800000\n",
            "( 429 , 842 )  1080000.0     10800000    10800000\n",
            "( 175 , 241 )  1080000.0     10800000    10800000\n",
            "( 8 , 378 )  1080000.0     10800000    10800000\n",
            "( 49 , 381 )  1080000.0     10800000    10800000\n",
            "( 513 , 234 )  1080000.0     10800000    10800000\n",
            "( 558 , 773 )  1080000.0     10800000    10800000\n",
            "( 72 , 526 )  1080000.0     10800000    10800000\n",
            "( 653 , 47 )  1080000.0     10800000    10800000\n",
            "( 421 , 554 )  1080000.0     10800000    10800000\n",
            "( 886 , 824 )  1080000.0     10800000    10800000\n",
            "( 196 , 444 )  1080000.0     10800000    10800000\n",
            "( 568 , 144 )  1080000.0     10800000    10800000\n",
            "( 10 , 504 )  1080000.0     10800000    10800000\n",
            "( 946 , 413 )  1080000.0     10800000    10800000\n",
            "( 329 , 733 )  1080000.0     10800000    10800000\n",
            "( 219 , 311 )  1080000.0     10800000    10800000\n",
            "( 635 , 128 )  1080000.0     10800000    10800000\n",
            "( 157 , 630 )  1080000.0     10800000    10800000\n",
            "( 648 , 824 )  1080000.0     10800000    10800000\n",
            "( 68 , 581 )  1080000.0     10800000    10800000\n",
            "( 154 , 295 )  1080000.0     10800000    10800000\n",
            "( 525 , 385 )  1080000.0     10800000    10800000\n",
            "( 578 , 907 )  1080000.0     10800000    10800000\n",
            "( 42 , 734 )  1080000.0     10800000    10800000\n",
            "( 434 , 202 )  1080000.0     10800000    10800000\n",
            "( 106 , 485 )  1080000.0     10800000    10800000\n",
            "( 991 , 455 )  1080000.0     10800000    10800000\n",
            "( 640 , 28 )  1080000.0     10800000    10800000\n",
            "( 293 , 341 )  1080000.0     10800000    10800000\n",
            "( 150 , 325 )  1080000.0     10800000    10800000\n",
            "( 386 , 501 )  1080000.0     10800000    10800000\n",
            "( 261 , 968 )  1080000.0     10800000    10800000\n",
            "( 507 , 882 )  1080000.0     10800000    10800000\n",
            "( 846 , 771 )  1080000.0     10800000    10800000\n",
            "( 925 , 945 )  1080000.0     10800000    10800000\n",
            "( 50 , 877 )  1080000.0     10800000    10800000\n",
            "( 733 , 790 )  1080000.0     10800000    10800000\n",
            "( 830 , 189 )  1080000.0     10800000    10800000\n",
            "( 832 , 859 )  1080000.0     10800000    10800000\n",
            "( 719 , 676 )  1080000.0     10800000    10800000\n",
            "( 454 , 95 )  1080000.0     10800000    10800000\n",
            "( 179 , 240 )  1080000.0     10800000    10800000\n",
            "( 321 , 125 )  1080000.0     10800000    10800000\n",
            "( 18 , 563 )  1080000.0     10800000    10800000\n",
            "( 871 , 409 )  1080000.0     10800000    10800000\n",
            "( 84 , 903 )  1080000.0     10800000    10800000\n",
            "( 347 , 301 )  1080000.0     10800000    10800000\n",
            "( 43 , 585 )  1080000.0     10800000    10800000\n",
            "( 977 , 837 )  1080000.0     10800000    10800000\n",
            "( 437 , 293 )  1080000.0     10800000    10800000\n",
            "( 713 , 35 )  1080000.0     10800000    10800000\n",
            "( 144 , 106 )  1080000.0     10800000    10800000\n",
            "( 254 , 932 )  1080000.0     10800000    10800000\n",
            "( 601 , 225 )  1080000.0     10800000    10800000\n",
            "( 154 , 143 )  1080000.0     10800000    10800000\n",
            "( 109 , 59 )  1080000.0     10800000    10800000\n",
            "( 138 , 923 )  1080000.0     10800000    10800000\n",
            "( 858 , 944 )  1080000.0     10800000    10800000\n",
            "( 990 , 437 )  1080000.0     10800000    10800000\n",
            "( 327 , 891 )  1080000.0     10800000    10800000\n",
            "( 418 , 796 )  1080000.0     10800000    10800000\n",
            "( 466 , 314 )  1080000.0     10800000    10800000\n",
            "( 898 , 985 )  1080000.0     10800000    10800000\n",
            "( 625 , 564 )  1080000.0     10800000    10800000\n",
            "( 562 , 346 )  1080000.0     10800000    10800000\n",
            "( 80 , 610 )  1080000.0     10800000    10800000\n",
            "( 945 , 141 )  1080000.0     10800000    10800000\n",
            "( 702 , 295 )  1080000.0     10800000    10800000\n",
            "( 692 , 650 )  1080000.0     10800000    10800000\n",
            "( 681 , 200 )  1080000.0     10800000    10800000\n",
            "( 803 , 34 )  1080000.0     10800000    10800000\n",
            "( 306 , 175 )  1080000.0     10800000    10800000\n",
            "( 977 , 259 )  1080000.0     10800000    10800000\n",
            "( 329 , 847 )  1080000.0     10800000    10800000\n",
            "( 776 , 319 )  1080000.0     10800000    10800000\n",
            "( 798 , 936 )  1080000.0     10800000    10800000\n"
          ]
        }
      ]
    },
    {
      "cell_type": "code",
      "source": [
        "Vehicles = []\n",
        "f = open(\"/content/sample_data/input_directory/vehicle.txt\",'r')\n",
        "n1 = int(f.readline())\n",
        "print(n1)\n",
        "for i in range(n1):\n",
        "    x = int(f.readline());\n",
        "    Vehicles.append(Vehicle(i, x))\n",
        "    print(Vehicles[i].vid,\"   \",Vehicles[i].capacity)\n",
        "f.close()"
      ],
      "metadata": {
        "colab": {
          "base_uri": "https://localhost:8080/"
        },
        "id": "FAw0nP-ad731",
        "outputId": "9cb4ae9c-e8cb-45e7-abcd-15d5ca322606"
      },
      "execution_count": 18,
      "outputs": [
        {
          "output_type": "stream",
          "name": "stdout",
          "text": [
            "12\n",
            "0     1248582433\n",
            "1     1126964728\n",
            "2     4318006975\n",
            "3     2244760851\n",
            "4     1152624056\n",
            "5     3847530941\n",
            "6     1591827994\n",
            "7     2138872920\n",
            "8     1448990981\n",
            "9     4581736512\n",
            "10     3803152752\n",
            "11     2356870178\n"
          ]
        }
      ]
    },
    {
      "cell_type": "code",
      "source": [
        "import math\n",
        "def Region(sensors, vehicles):\n",
        "    h = len(vehicles)\n",
        "    n = len(sensors)\n",
        "    regionmean = []\n",
        "    region = []\n",
        "    newregionmean = []\n",
        "    newregion = []\n",
        "\n",
        "    i = 0\n",
        "    for s in sensors:\n",
        "        regionmean.append(s)\n",
        "        region.append([i])\n",
        "        newregionmean.append(s)\n",
        "        newregion.append([i])\n",
        "        i = i + 1\n",
        "\n",
        "    k = n\n",
        "    while (h < k):\n",
        "        indi, indj = 0, 0\n",
        "        for i in range(len(newregion)):\n",
        "            x1 = newregionmean[i].x\n",
        "            y1 = newregionmean[i].y\n",
        "            min = 1e9\n",
        "            for j in range(i + 1, len(newregion)):\n",
        "                x2 = newregionmean[j].x\n",
        "                y2 = newregionmean[j].y\n",
        "                dx = int(x1 - x2)\n",
        "                dy = int(y1 - y2)\n",
        "                dist = dx * dx + dy * dy\n",
        "                if (min > dist):\n",
        "                    min = dist\n",
        "                    indj = j\n",
        "                    indi = i\n",
        "\n",
        "        finalx = (newregionmean[indi].x + newregionmean[indj].x) / 2\n",
        "        finaly = (newregionmean[indi].y + newregionmean[indj].y) / 2\n",
        "\n",
        "        newregionmean.remove(newregionmean[indj])\n",
        "        newregionmean[indi] = point(finalx, finaly)\n",
        "\n",
        "        newregion[indi].extend(newregion[indj])\n",
        "\n",
        "        newregion.remove(newregion[indj]);\n",
        "\n",
        "        k = k - 1\n",
        "\n",
        "    # #print cluster\n",
        "    # for r in newregion:\n",
        "    #   print(\"[\",end=\"\")\n",
        "    #   for s in r:\n",
        "    #     print(s,\", \",end=\"\")\n",
        "    #   print(\"]\")\n",
        "\n",
        "    # # print mean of clusters\n",
        "    # for mean in newregionmean:\n",
        "    #   print(\"(\",mean.x,\" ,\",mean.y,\"), \",end=\"\")\n",
        "\n",
        "    while (region != newregion):\n",
        "\n",
        "        region = newregion\n",
        "        newregion = []\n",
        "\n",
        "        for m in newregionmean:\n",
        "            newregion.append([])\n",
        "\n",
        "        regionmean = newregionmean\n",
        "\n",
        "        j = 0\n",
        "        for s in sensors:\n",
        "\n",
        "            min = 1e9\n",
        "            ind = 0\n",
        "            for i in range(len(newregionmean)):\n",
        "                dx = newregionmean[i].x - s.x\n",
        "                dy = newregionmean[i].y - s.y\n",
        "\n",
        "                d = dx * dx + dy * dy\n",
        "                if (d < min):\n",
        "                    min = d\n",
        "                    ind = i\n",
        "\n",
        "            newregion[ind].append(j);\n",
        "            j = j + 1;\n",
        "\n",
        "        i = 0\n",
        "        for r in newregion:\n",
        "            dx = 0\n",
        "            dy = 0\n",
        "            l = 0\n",
        "            for s in r:\n",
        "                l = l + 1\n",
        "                dx = dx + sensors[s].x\n",
        "                dy = dy + sensors[s].y\n",
        "\n",
        "            if (l != 0):\n",
        "                newregionmean[i].x = dx / l\n",
        "                newregionmean[i].y = dy / l\n",
        "\n",
        "            i = i + 1\n",
        "\n",
        "    for r in newregion:\n",
        "        print(\"[\", end=\"\")\n",
        "        for s in r:\n",
        "            print(s, \", \", end=\"\")\n",
        "        print(\"]\")\n",
        "\n",
        "    print()\n",
        "    for mean in newregionmean:\n",
        "        print(\"(\", mean.x, \" ,\", mean.y, \"), \", end=\"\")\n",
        "\n",
        "    return [newregion, newregionmean]\n"
      ],
      "metadata": {
        "id": "fb9WJprHeFGo"
      },
      "execution_count": 19,
      "outputs": []
    },
    {
      "cell_type": "code",
      "source": [
        "regions = Region(sensors, Vehicles)"
      ],
      "metadata": {
        "colab": {
          "base_uri": "https://localhost:8080/"
        },
        "id": "-mAjXm4NeQak",
        "outputId": "27ef5703-555f-43bf-d072-3405dc0bd565"
      },
      "execution_count": 20,
      "outputs": [
        {
          "output_type": "stream",
          "name": "stdout",
          "text": [
            "[0 , 27 , 40 , 67 , 83 , 92 , 94 , 133 , 157 , 158 , 162 , 172 , 181 , 186 , 199 , ]\n",
            "[1 , 19 , 29 , 31 , 53 , 64 , 72 , 107 , 108 , 111 , 121 , 132 , 163 , 187 , 192 , ]\n",
            "[2 , 13 , 15 , 23 , 35 , 37 , 62 , 73 , 74 , 93 , 118 , 123 , 137 , 150 , 168 , 182 , 196 , ]\n",
            "[3 , 30 , 32 , 54 , 63 , 96 , 97 , 115 , 138 , 155 , 176 , 183 , 197 , ]\n",
            "[4 , 25 , 77 , 98 , 142 , 146 , 160 , ]\n",
            "[5 , 34 , 41 , 51 , 69 , 71 , 112 , 124 , 129 , 156 , 184 , ]\n",
            "[6 , 17 , 36 , 38 , 39 , 42 , 43 , 44 , 61 , 84 , 85 , 105 , 106 , 126 , 127 , 134 , 139 , 144 , 149 , 152 , 153 , ]\n",
            "[7 , 18 , 20 , 26 , 46 , 48 , 57 , 59 , 60 , 68 , 76 , 95 , 104 , 109 , 113 , 125 , 165 , 166 , 175 , 178 , 179 , 195 , ]\n",
            "[8 , 22 , 45 , 47 , 50 , 55 , 70 , 78 , 88 , 99 , 128 , 145 , 148 , 154 , 164 , 170 , 173 , 185 , 188 , ]\n",
            "[9 , 16 , 28 , 58 , 66 , 81 , 87 , 89 , 100 , 122 , 130 , 136 , 141 , 143 , 147 , 167 , 171 , 189 , ]\n",
            "[10 , 75 , 82 , 91 , 103 , 110 , 116 , 159 , 169 , 180 , ]\n",
            "[11 , 12 , 14 , 21 , 24 , 33 , 49 , 52 , 56 , 65 , 79 , 80 , 86 , 90 , 101 , 102 , 114 , 117 , 119 , 120 , 131 , 135 , 140 , 151 , 161 , 174 , 177 , 190 , 191 , 193 , 194 , 198 , ]\n",
            "\n",
            "( 860.7142857089347  , 880.5714286063222 ), ( 583.4288622910893  , 599.0000723272025 ), ( 944.1875002731057  , 440.06249941685684 ), ( 327.1648476049117  , 887.5075615623693 ), ( 631.5001019983171  , 879.1666338005423 ), ( 488.7000100079829  , 838.8000066579933 ), ( 156.80038476925077  , 376.00082021909793 ), ( 205.00109359931477  , 131.95220394540408 ), ( 460.6666987290691  , 314.1130978088633 ), ( 130.76161472696737  , 604.8829890780592 ), ( 151.86863348726104  , 861.29461859569 ), ( 731.0625  , 148.21875 ), "
          ]
        }
      ]
    },
    {
      "cell_type": "code",
      "source": [
        "# Algo 2\n",
        "from operator import attrgetter\n",
        "def AssignVehicle(regions, Sensors, vehicles, BS):\n",
        "    h = len(vehicles)\n",
        "    alpha = 0.5\n",
        "    RE = []\n",
        "    W = []\n",
        "    for i in range(h):\n",
        "        RE.append(0);\n",
        "        for s in (regions[0])[i]:\n",
        "            RE[i] = RE[i] + Sensors[i].capacity\n",
        "        dx = BS.x - (regions[1])[i].x\n",
        "        dy = BS.y - (regions[1])[i].y\n",
        "\n",
        "        d = dx * dx + dy * dy\n",
        "\n",
        "        w = (RE[i] + d) * alpha\n",
        "\n",
        "        W.append([w, i])\n",
        "\n",
        "    W.sort();\n",
        "\n",
        "    vehicles.sort(key=attrgetter('capacity'))\n",
        "\n",
        "    R = []\n",
        "    print()\n",
        "    for i in range(h):\n",
        "        print(vehicles[i].vid,\" --> \",(W[i])[1],\" === \",(regions[0])[(W[i])[1]])\n",
        "        cluster = []\n",
        "        for s in (regions[0])[(W[i])[1]]:\n",
        "          Sensors[s].vid = vehicles[i].vid\n",
        "        R.append([(W[i])[1], vehicles[i]])\n",
        "\n",
        "    R.sort()\n",
        "    # print(R)\n",
        "\n",
        "    return R"
      ],
      "metadata": {
        "id": "KLOJ8xbQeS-5"
      },
      "execution_count": 21,
      "outputs": []
    },
    {
      "cell_type": "code",
      "source": [
        "cluster_vehicle = AssignVehicle(regions, Sensors, Vehicles, point(500, 500))"
      ],
      "metadata": {
        "colab": {
          "base_uri": "https://localhost:8080/"
        },
        "id": "nbBOosFNebeg",
        "outputId": "93f48faf-1461-4109-8659-7a47f9b2f529"
      },
      "execution_count": 22,
      "outputs": [
        {
          "output_type": "stream",
          "name": "stdout",
          "text": [
            "\n",
            "1  -->  4  ===  [4, 25, 77, 98, 142, 146, 160]\n",
            "4  -->  10  ===  [10, 75, 82, 91, 103, 110, 116, 159, 169, 180]\n",
            "0  -->  5  ===  [5, 34, 41, 51, 69, 71, 112, 124, 129, 156, 184]\n",
            "8  -->  3  ===  [3, 30, 32, 54, 63, 96, 97, 115, 138, 155, 176, 183, 197]\n",
            "6  -->  1  ===  [1, 19, 29, 31, 53, 64, 72, 107, 108, 111, 121, 132, 163, 187, 192]\n",
            "7  -->  0  ===  [0, 27, 40, 67, 83, 92, 94, 133, 157, 158, 162, 172, 181, 186, 199]\n",
            "3  -->  2  ===  [2, 13, 15, 23, 35, 37, 62, 73, 74, 93, 118, 123, 137, 150, 168, 182, 196]\n",
            "11  -->  9  ===  [9, 16, 28, 58, 66, 81, 87, 89, 100, 122, 130, 136, 141, 143, 147, 167, 171, 189]\n",
            "10  -->  8  ===  [8, 22, 45, 47, 50, 55, 70, 78, 88, 99, 128, 145, 148, 154, 164, 170, 173, 185, 188]\n",
            "5  -->  6  ===  [6, 17, 36, 38, 39, 42, 43, 44, 61, 84, 85, 105, 106, 126, 127, 134, 139, 144, 149, 152, 153]\n",
            "2  -->  7  ===  [7, 18, 20, 26, 46, 48, 57, 59, 60, 68, 76, 95, 104, 109, 113, 125, 165, 166, 175, 178, 179, 195]\n",
            "9  -->  11  ===  [11, 12, 14, 21, 24, 33, 49, 52, 56, 65, 79, 80, 86, 90, 101, 102, 114, 117, 119, 120, 131, 135, 140, 151, 161, 174, 177, 190, 191, 193, 194, 198]\n"
          ]
        }
      ]
    },
    {
      "cell_type": "code",
      "source": [
        "v = 5 # m/s\n",
        "echargerate = 5000 # mj/s\n",
        "emovrate = 600000 # mj/m\n",
        "\n",
        "threadLock = threading.Lock()"
      ],
      "metadata": {
        "id": "zJcqalMved0m"
      },
      "execution_count": 23,
      "outputs": []
    },
    {
      "cell_type": "code",
      "source": [
        "def Routing(vehicle, sensors, BS, t, clusterNo):\n",
        "  EM, EC, E = 0, 0, 0;\n",
        "  vehicle.pos = BS\n",
        "  tour = []\n",
        "  tour.append(BS)\n",
        "  vehicle.telapsed = 1\n",
        "  countCharged = 0\n",
        "  countDischarged = 0\n",
        "  \n",
        "  SQ=[]\n",
        "  #making SQ at starting \n",
        "  \n",
        "  \n",
        "\n",
        "  # print(len(sensors))\n",
        "  # print(len(SQ))\n",
        "  print(\"1st request comes at  time = \", vehicle.t)\n",
        "  while len(sensors)!=0:\n",
        "    threadLock.acquire()\n",
        "    #t.sleep(15)\n",
        "    \"\"\"print(vehicle.pos.x,\" , \",vehicle.pos.y)\"\"\"\n",
        "    \n",
        "    # making SQ\n",
        "    while(len(SQ) == 0 and len(sensors) > 0) :\n",
        "        for si in sensors :\n",
        "            si.RC = max(0, (si.RC-random.randint(1,10) * vehicle.telapsed))\n",
        "            si.RL = si.RC / consumerate_max\n",
        "            vehicle.t = vehicle.t + vehicle.telapsed;\n",
        "            si.t  = si.t + vehicle.telapsed;\n",
        "            \n",
        "            if (si.RC <= (si.capacity*0.4)):\n",
        "                SQ.append(si)\n",
        "        \n",
        "        if(len(SQ) == 0):\n",
        "            vehicle.telapsed = 1;\n",
        "            \n",
        "            \n",
        "    \n",
        "    min=9223372036854775807\n",
        "    s = SQ[0]\n",
        "    \"\"\"print(vehicle.telapsed)\"\"\"\n",
        "    for si in SQ:\n",
        "      d=(vehicle.pos.x-si.pos.x)*(vehicle.pos.x-si.pos.x)-(vehicle.pos.y-si.pos.y)*(vehicle.pos.y-si.pos.y)\n",
        "      \n",
        "      if(min > d*si.RL):\n",
        "        s = si\n",
        "      \n",
        "\n",
        "\n",
        "    d=math.sqrt((vehicle.pos.x-s.pos.x)*(vehicle.pos.x-s.pos.x)+(vehicle.pos.y-s.pos.y)*(vehicle.pos.y-s.pos.y)) \n",
        "    time = d/v\n",
        "    d2= math.sqrt((BS.x-s.pos.x)*(BS.x-s.pos.x)+(BS.y-s.pos.y)*(BS.y-s.pos.y))\n",
        "\n",
        "    consumerate = random.randint(1,10)\n",
        "    tcharge = (s.capacity-s.RL*consumerate)/(echargerate - consumerate)\n",
        "    \"\"\"print(\"tcharge=\",tcharge)\"\"\"\n",
        "    Emov = ((d + d2)/v)*(emovrate)\n",
        "    Echarge = (tcharge*echargerate);\n",
        "    etotal = E + Emov + Echarge \n",
        "    \"\"\"print(time <= s.RL,\"  t=\",time,\",  RL\",s.RL)\n",
        "    print(\"battery=\",vehicle.capacity-E)\"\"\"\n",
        "    \n",
        "    if(time <= s.RL and etotal <= vehicle.capacity ):\n",
        "      \"\"\"print(\"********\")\"\"\"\n",
        "\n",
        "      eReach = time*emovrate\n",
        "      EM = EM + eReach\n",
        "      EC = EC + Echarge\n",
        "      E = EM + EC\n",
        "      vehicle.pos = s.pos\n",
        "      tour.append(s)\n",
        "      vehicle.countCharged =vehicle.countCharged +1\n",
        "      vehicle.telapsed = time + tcharge\n",
        "      \n",
        "      \"\"\"print(len(SQ))\"\"\"\n",
        "      countCharged = countCharged + 1\n",
        "      \n",
        "    else:\n",
        "        countDischarged = countDischarged + 1\n",
        "        sensors.remove(s)\n",
        "    \n",
        "    SQ.remove(s)\n",
        "    \n",
        "    \n",
        "    threadLock.release()\n",
        "    \"\"\"print(len(SQ))\"\"\"\n",
        "  vehicle.tour = tour\n",
        "  print(len(vehicle.tour))\n",
        "  print(\"cluster -\", clusterNo, \"  remaining = \", len(SQ), \"  charged = \",countCharged, \"  dead = \",countDischarged, \"  TotalTime=\", vehicle.t)\n",
        "  print(\"Echarge/Etotal = \",EC/E)\n",
        "\n",
        "    "
      ],
      "metadata": {
        "id": "mt7aFIfGer8d"
      },
      "execution_count": 24,
      "outputs": []
    },
    {
      "cell_type": "code",
      "source": [
        "def clusterAndVehicle(regions,cluster_vehicle, clusterNo):\n",
        "    sensor =[]\n",
        "    \n",
        "    vehicle = (cluster_vehicle[clusterNo])[1]\n",
        "    \n",
        "    for i in (regions[0])[clusterNo]:\n",
        "        \"\"\"print(i)\"\"\"\n",
        "        \"\"\"Sensors[i].RL = 12\"\"\"\n",
        "        si = Sensors[i];\n",
        "        si.RC = max(0, (si.RC-random.randint(1,5) * (vehicle.t-si.t)))\n",
        "        si.RL = si.RC / consumerate_max;\n",
        "        si.t  = vehicle.t; \n",
        "        sensor.append(si)\n",
        "        #print(si.RC,\"   \",si.t)\n",
        "    \n",
        "    \n",
        "    \n",
        "    return vehicle,sensor"
      ],
      "metadata": {
        "id": "ISkfMKFVewif"
      },
      "execution_count": 25,
      "outputs": []
    },
    {
      "cell_type": "code",
      "source": [
        "# class myThread (threading.Thread):\n",
        "#    def __init__(self, threadID, name):\n",
        "#       threading.Thread.__init__(self)\n",
        "#       self.threadID = threadID\n",
        "#       self.name = name\n",
        "      \n",
        "#    def run(self):\n",
        "#       print (\"Starting \" + self.name, self.threadID)\n",
        "#       vehicle, sensor = clusterAndVehicle(regions,cluster_vehicle, self.threadID);\n",
        "#       Routing(vehicle, sensor, point(500,500), time, self.threadID);\n",
        "#       print (\"Exiting \" + self.name, self.threadID)"
      ],
      "metadata": {
        "id": "W5lX8Vf_e0n8"
      },
      "execution_count": 26,
      "outputs": []
    },
    {
      "cell_type": "code",
      "source": [
        "# Create new threads\n",
        "for i in range(0,n1):\n",
        "  print(\"cluster-\",i)\n",
        "  vehicle, sensor = clusterAndVehicle(regions,cluster_vehicle, i);\n",
        "  Routing(vehicle, sensor, point(500,500), time, i);\n",
        "    \n",
        "\n",
        "# print (\"Exiting Main Thread\")"
      ],
      "metadata": {
        "colab": {
          "base_uri": "https://localhost:8080/"
        },
        "id": "D-qEJajXe7Z2",
        "outputId": "5f69b357-2e8d-4927-f759-170ba945f1d2"
      },
      "execution_count": 27,
      "outputs": [
        {
          "output_type": "stream",
          "name": "stdout",
          "text": [
            "cluster- 0\n",
            "1st request comes at  time =  0\n",
            "89\n",
            "cluster - 0   remaining =  0   charged =  88   dead =  15   TotalTime= 17847761.774582572\n",
            "Echarge/Etotal =  0.35925987318311314\n",
            "cluster- 1\n",
            "1st request comes at  time =  0\n",
            "54\n",
            "cluster - 1   remaining =  0   charged =  53   dead =  15   TotalTime= 17796444.601060797\n",
            "Echarge/Etotal =  0.2900435893601509\n",
            "cluster- 2\n",
            "1st request comes at  time =  0\n",
            "78\n",
            "cluster - 2   remaining =  0   charged =  77   dead =  17   TotalTime= 20173924.038754404\n",
            "Echarge/Etotal =  0.28886006465785624\n",
            "cluster- 3\n",
            "1st request comes at  time =  0\n",
            "58\n",
            "cluster - 3   remaining =  0   charged =  57   dead =  13   TotalTime= 15427965.29330422\n",
            "Echarge/Etotal =  0.33055250312350787\n",
            "cluster- 4\n",
            "1st request comes at  time =  0\n",
            "50\n",
            "cluster - 4   remaining =  0   charged =  49   dead =  7   TotalTime= 8338224.671078431\n",
            "Echarge/Etotal =  0.3740266795087564\n",
            "cluster- 5\n",
            "1st request comes at  time =  0\n",
            "55\n",
            "cluster - 5   remaining =  0   charged =  54   dead =  11   TotalTime= 13074227.889942152\n",
            "Echarge/Etotal =  0.3775744808353948\n",
            "cluster- 6\n",
            "1st request comes at  time =  0\n",
            "148\n",
            "cluster - 6   remaining =  0   charged =  147   dead =  21   TotalTime= 25049551.019060574\n",
            "Echarge/Etotal =  0.3223262116732602\n",
            "cluster- 7\n",
            "1st request comes at  time =  0\n",
            "128\n",
            "cluster - 7   remaining =  0   charged =  127   dead =  22   TotalTime= 26197616.97482261\n",
            "Echarge/Etotal =  0.24426484715973984\n",
            "cluster- 8\n",
            "1st request comes at  time =  0\n",
            "146\n",
            "cluster - 8   remaining =  0   charged =  145   dead =  19   TotalTime= 22656701.15162535\n",
            "Echarge/Etotal =  0.3237550142969036\n",
            "cluster- 9\n",
            "1st request comes at  time =  0\n",
            "95\n",
            "cluster - 9   remaining =  0   charged =  94   dead =  18   TotalTime= 21388272.84642543\n",
            "Echarge/Etotal =  0.34222343450686465\n",
            "cluster- 10\n",
            "1st request comes at  time =  0\n",
            "49\n",
            "cluster - 10   remaining =  0   charged =  48   dead =  10   TotalTime= 11871577.306303252\n",
            "Echarge/Etotal =  0.3703930312731874\n",
            "cluster- 11\n",
            "1st request comes at  time =  0\n",
            "149\n",
            "cluster - 11   remaining =  0   charged =  148   dead =  32   TotalTime= 37956054.25663628\n",
            "Echarge/Etotal =  0.27584154966539537\n"
          ]
        }
      ]
    },
    {
      "cell_type": "code",
      "source": [
        "# vehicle, sensor = clusterAndVehicle(regions,cluster_vehicle, 0);\n",
        "# vehicle.vid\n",
        "# vehicle.capacity"
      ],
      "metadata": {
        "id": "z6mHi-25e_j4"
      },
      "execution_count": 28,
      "outputs": []
    },
    {
      "cell_type": "code",
      "source": [
        "# for s in sensor:\n",
        "#   print(s.vid,\" \",s.capacity,\" \",s.RL,\" \",s.RC,\" \",s.t,\"  (\",s.pos.x,\",\",s.pos.y,\")\")"
      ],
      "metadata": {
        "id": "IxTUsrskw-YU"
      },
      "execution_count": 29,
      "outputs": []
    },
    {
      "cell_type": "code",
      "source": [
        "import matplotlib.pyplot as plt"
      ],
      "metadata": {
        "id": "kKn1dDcyxEBh"
      },
      "execution_count": 30,
      "outputs": []
    },
    {
      "cell_type": "code",
      "source": [
        "# Vehicles = []\n",
        "\n",
        "#cluster- 0\n",
        "\n",
        "vehicle = (cluster_vehicle[0])[1]\n",
        "\n",
        "print(vehicle.vid,\" \", vehicle.t)\n",
        "\n",
        "tour = vehicle.tour\n",
        "# print(tour)\n",
        "\n",
        "prevx = tour[0].x\n",
        "prevy = tour[0].y\n",
        "\n",
        "n = len(tour)\n",
        "# print(n)\n",
        "plt.xlim(0,1000)\n",
        "plt.ylim(0,1000)\n",
        "print(\"(\",prevx,\",\",prevy,\")\",end=\"  \")\n",
        "for i in range(1,n):\n",
        "  # print(i)\n",
        "  plt.arrow(prevx, prevy, tour[i].pos.x-prevx, tour[i].pos.y- prevy, head_width=3, head_length=3, color='red')\n",
        "\n",
        "  prevx = tour[i].pos.x\n",
        "  prevy = tour[i].pos.y\n",
        "  print(\"(\",prevx,\",\",prevy,\")\",end=\"  \")\n",
        "plt.show()\n",
        "\n",
        "\n"
      ],
      "metadata": {
        "colab": {
          "base_uri": "https://localhost:8080/",
          "height": 324
        },
        "id": "ldvbed4fAfj_",
        "outputId": "de141f3d-c30a-494d-e260-29838e14a17c"
      },
      "execution_count": 31,
      "outputs": [
        {
          "output_type": "stream",
          "name": "stdout",
          "text": [
            "7   17847761.774582572\n",
            "( 500 , 500 )  ( 771 , 884 )  ( 858 , 944 )  ( 977 , 837 )  ( 925 , 945 )  ( 846 , 771 )  ( 886 , 824 )  ( 771 , 884 )  ( 884 , 697 )  ( 803 , 778 )  ( 927 , 949 )  ( 803 , 990 )  ( 842 , 929 )  ( 847 , 970 )  ( 798 , 936 )  ( 858 , 944 )  ( 977 , 837 )  ( 925 , 945 )  ( 846 , 771 )  ( 886 , 824 )  ( 771 , 884 )  ( 884 , 697 )  ( 803 , 778 )  ( 927 , 949 )  ( 803 , 990 )  ( 842 , 929 )  ( 847 , 970 )  ( 798 , 936 )  ( 898 , 985 )  ( 858 , 944 )  ( 977 , 837 )  ( 832 , 859 )  ( 925 , 945 )  ( 846 , 771 )  ( 886 , 824 )  ( 771 , 884 )  ( 884 , 697 )  ( 803 , 778 )  ( 927 , 949 )  ( 803 , 990 )  ( 842 , 929 )  ( 847 , 970 )  ( 798 , 936 )  ( 898 , 985 )  ( 858 , 944 )  ( 977 , 837 )  ( 832 , 859 )  ( 925 , 945 )  ( 846 , 771 )  ( 886 , 824 )  ( 771 , 884 )  ( 884 , 697 )  ( 803 , 778 )  ( 927 , 949 )  ( 803 , 990 )  ( 842 , 929 )  ( 847 , 970 )  ( 798 , 936 )  ( 898 , 985 )  ( 858 , 944 )  ( 977 , 837 )  ( 832 , 859 )  ( 925 , 945 )  ( 846 , 771 )  ( 886 , 824 )  ( 771 , 884 )  ( 884 , 697 )  ( 803 , 778 )  ( 927 , 949 )  ( 803 , 990 )  ( 842 , 929 )  ( 847 , 970 )  ( 798 , 936 )  ( 898 , 985 )  ( 858 , 944 )  ( 977 , 837 )  ( 832 , 859 )  ( 925 , 945 )  ( 846 , 771 )  ( 886 , 824 )  ( 771 , 884 )  ( 884 , 697 )  ( 803 , 778 )  ( 927 , 949 )  ( 803 , 990 )  ( 842 , 929 )  ( 847 , 970 )  ( 798 , 936 )  ( 832 , 859 )  "
          ]
        },
        {
          "output_type": "display_data",
          "data": {
            "text/plain": [
              "<Figure size 432x288 with 1 Axes>"
            ],
            "image/png": "[encoded data removed]"
          },
          "metadata": {
            "needs_background": "light"
          }
        }
      ]
    },
    {
      "cell_type": "code",
      "source": [
        "#cluster- 0\n",
        "\n",
        "vehicle = (cluster_vehicle[1])[1]\n",
        "\n",
        "print(vehicle.vid,\" \", vehicle.t)\n",
        "\n",
        "tour = vehicle.tour\n",
        "# print(tour)\n",
        "\n",
        "prevx = tour[0].x\n",
        "prevy = tour[0].y\n",
        "\n",
        "n = len(tour)\n",
        "# print(n)\n",
        "plt.xlim(0,1000)\n",
        "plt.ylim(0,1000)\n",
        "print(\"(\",prevx,\",\",prevy,\")\",end=\"  \")\n",
        "for i in range(1,n):\n",
        "  # print(i)\n",
        "  plt.arrow(prevx, prevy, tour[i].pos.x-prevx, tour[i].pos.y- prevy, head_width=3, head_length=3, color='red')\n",
        "\n",
        "  prevx = tour[i].pos.x\n",
        "  prevy = tour[i].pos.y\n",
        "  print(\"(\",prevx,\",\",prevy,\")\",end=\"  \")\n",
        "plt.show()"
      ],
      "metadata": {
        "colab": {
          "base_uri": "https://localhost:8080/",
          "height": 324
        },
        "id": "okQlVzHRCthD",
        "outputId": "86f01317-bf41-42ab-9034-5178204e2ee5"
      },
      "execution_count": 32,
      "outputs": [
        {
          "output_type": "stream",
          "name": "stdout",
          "text": [
            "6   17796444.601060797\n",
            "( 500 , 500 )  ( 749 , 518 )  ( 692 , 650 )  ( 625 , 564 )  ( 719 , 676 )  ( 421 , 554 )  ( 710 , 668 )  ( 641 , 510 )  ( 749 , 518 )  ( 543 , 677 )  ( 407 , 555 )  ( 597 , 597 )  ( 548 , 520 )  ( 546 , 642 )  ( 540 , 614 )  ( 430 , 641 )  ( 591 , 483 )  ( 692 , 650 )  ( 625 , 564 )  ( 719 , 676 )  ( 421 , 554 )  ( 710 , 668 )  ( 641 , 510 )  ( 749 , 518 )  ( 543 , 677 )  ( 407 , 555 )  ( 597 , 597 )  ( 548 , 520 )  ( 546 , 642 )  ( 540 , 614 )  ( 430 , 641 )  ( 591 , 483 )  ( 692 , 650 )  ( 625 , 564 )  ( 719 , 676 )  ( 421 , 554 )  ( 710 , 668 )  ( 641 , 510 )  ( 749 , 518 )  ( 543 , 677 )  ( 407 , 555 )  ( 597 , 597 )  ( 548 , 520 )  ( 546 , 642 )  ( 540 , 614 )  ( 430 , 641 )  ( 591 , 483 )  ( 692 , 650 )  ( 625 , 564 )  ( 719 , 676 )  ( 421 , 554 )  ( 710 , 668 )  ( 641 , 510 )  ( 597 , 597 )  "
          ]
        },
        {
          "output_type": "display_data",
          "data": {
            "text/plain": [
              "<Figure size 432x288 with 1 Axes>"
            ],
            "image/png": "[encoded data removed]"
          },
          "metadata": {
            "needs_background": "light"
          }
        }
      ]
    },
    {
      "cell_type": "code",
      "source": [
        "#cluster- 0\n",
        "\n",
        "vehicle = (cluster_vehicle[2])[1]\n",
        "\n",
        "print(vehicle.vid,\" \", vehicle.t)\n",
        "\n",
        "tour = vehicle.tour\n",
        "# print(tour)\n",
        "\n",
        "prevx = tour[0].x\n",
        "prevy = tour[0].y\n",
        "\n",
        "n = len(tour)\n",
        "# print(n)\n",
        "plt.xlim(0,1000)\n",
        "plt.ylim(0,1000)\n",
        "print(\"(\",prevx,\",\",prevy,\")\",end=\"  \")\n",
        "for i in range(1,n):\n",
        "  # print(i)\n",
        "  plt.arrow(prevx, prevy, tour[i].pos.x-prevx, tour[i].pos.y- prevy, head_width=3, head_length=3, color='red')\n",
        "\n",
        "  prevx = tour[i].pos.x\n",
        "  prevy = tour[i].pos.y\n",
        "  print(\"(\",prevx,\",\",prevy,\")\",end=\"  \")\n",
        "plt.show()"
      ],
      "metadata": {
        "colab": {
          "base_uri": "https://localhost:8080/",
          "height": 324
        },
        "id": "-zkgnTdQMysM",
        "outputId": "a3581469-d895-49b9-c224-d7975f059509"
      },
      "execution_count": 33,
      "outputs": [
        {
          "output_type": "stream",
          "name": "stdout",
          "text": [
            "3   20173924.038754404\n",
            "( 500 , 500 )  ( 981 , 566 )  ( 977 , 259 )  ( 990 , 437 )  ( 871 , 409 )  ( 991 , 455 )  ( 946 , 413 )  ( 961 , 564 )  ( 984 , 226 )  ( 992 , 528 )  ( 981 , 566 )  ( 843 , 598 )  ( 990 , 612 )  ( 836 , 329 )  ( 955 , 319 )  ( 939 , 510 )  ( 977 , 259 )  ( 990 , 437 )  ( 871 , 409 )  ( 991 , 455 )  ( 946 , 413 )  ( 961 , 564 )  ( 984 , 226 )  ( 992 , 528 )  ( 981 , 566 )  ( 921 , 301 )  ( 843 , 598 )  ( 990 , 612 )  ( 836 , 329 )  ( 955 , 319 )  ( 939 , 510 )  ( 930 , 515 )  ( 965 , 310 )  ( 977 , 259 )  ( 990 , 437 )  ( 871 , 409 )  ( 991 , 455 )  ( 946 , 413 )  ( 961 , 564 )  ( 984 , 226 )  ( 992 , 528 )  ( 981 , 566 )  ( 921 , 301 )  ( 843 , 598 )  ( 990 , 612 )  ( 836 , 329 )  ( 955 , 319 )  ( 939 , 510 )  ( 930 , 515 )  ( 965 , 310 )  ( 977 , 259 )  ( 990 , 437 )  ( 871 , 409 )  ( 991 , 455 )  ( 946 , 413 )  ( 961 , 564 )  ( 984 , 226 )  ( 992 , 528 )  ( 981 , 566 )  ( 921 , 301 )  ( 843 , 598 )  ( 990 , 612 )  ( 836 , 329 )  ( 955 , 319 )  ( 939 , 510 )  ( 930 , 515 )  ( 965 , 310 )  ( 977 , 259 )  ( 990 , 437 )  ( 871 , 409 )  ( 991 , 455 )  ( 946 , 413 )  ( 961 , 564 )  ( 992 , 528 )  ( 981 , 566 )  ( 843 , 598 )  ( 843 , 598 )  ( 843 , 598 )  "
          ]
        },
        {
          "output_type": "display_data",
          "data": {
            "text/plain": [
              "<Figure size 432x288 with 1 Axes>"
            ],
            "image/png": "[encoded data removed]"
          },
          "metadata": {
            "needs_background": "light"
          }
        }
      ]
    },
    {
      "cell_type": "code",
      "source": [
        "#cluster- 0\n",
        "\n",
        "vehicle = (cluster_vehicle[3])[1]\n",
        "\n",
        "print(vehicle.vid,\" \", vehicle.t)\n",
        "\n",
        "tour = vehicle.tour\n",
        "# print(tour)\n",
        "\n",
        "prevx = tour[0].x\n",
        "prevy = tour[0].y\n",
        "\n",
        "n = len(tour)\n",
        "# print(n)\n",
        "plt.xlim(0,1000)\n",
        "plt.ylim(0,1000)\n",
        "print(\"(\",prevx,\",\",prevy,\")\",end=\"  \")\n",
        "for i in range(1,n):\n",
        "  # print(i)\n",
        "  plt.arrow(prevx, prevy, tour[i].pos.x-prevx, tour[i].pos.y- prevy, head_width=3, head_length=3, color='red')\n",
        "\n",
        "  prevx = tour[i].pos.x\n",
        "  prevy = tour[i].pos.y\n",
        "  print(\"(\",prevx,\",\",prevy,\")\",end=\"  \")\n",
        "plt.show()"
      ],
      "metadata": {
        "colab": {
          "base_uri": "https://localhost:8080/",
          "height": 324
        },
        "id": "TyYibXrQM3I6",
        "outputId": "90f7b2cb-cf21-4590-f395-04adb0e9ee17"
      },
      "execution_count": 34,
      "outputs": [
        {
          "output_type": "stream",
          "name": "stdout",
          "text": [
            "8   15427965.29330422\n",
            "( 500 , 500 )  ( 340 , 998 )  ( 329 , 847 )  ( 327 , 891 )  ( 261 , 968 )  ( 329 , 733 )  ( 340 , 998 )  ( 334 , 883 )  ( 414 , 973 )  ( 397 , 905 )  ( 415 , 966 )  ( 329 , 847 )  ( 327 , 891 )  ( 261 , 968 )  ( 329 , 733 )  ( 340 , 998 )  ( 346 , 760 )  ( 334 , 883 )  ( 313 , 853 )  ( 414 , 973 )  ( 282 , 906 )  ( 397 , 905 )  ( 415 , 966 )  ( 329 , 847 )  ( 327 , 891 )  ( 254 , 932 )  ( 261 , 968 )  ( 329 , 733 )  ( 340 , 998 )  ( 346 , 760 )  ( 334 , 883 )  ( 313 , 853 )  ( 414 , 973 )  ( 282 , 906 )  ( 397 , 905 )  ( 415 , 966 )  ( 329 , 847 )  ( 327 , 891 )  ( 254 , 932 )  ( 261 , 968 )  ( 329 , 733 )  ( 340 , 998 )  ( 346 , 760 )  ( 334 , 883 )  ( 313 , 853 )  ( 414 , 973 )  ( 282 , 906 )  ( 397 , 905 )  ( 415 , 966 )  ( 329 , 847 )  ( 327 , 891 )  ( 254 , 932 )  ( 261 , 968 )  ( 329 , 733 )  ( 340 , 998 )  ( 346 , 760 )  ( 329 , 733 )  ( 329 , 733 )  "
          ]
        },
        {
          "output_type": "display_data",
          "data": {
            "text/plain": [
              "<Figure size 432x288 with 1 Axes>"
            ],
            "image/png": "[encoded data removed]"
          },
          "metadata": {
            "needs_background": "light"
          }
        }
      ]
    },
    {
      "cell_type": "code",
      "source": [
        "#cluster- 0\n",
        "\n",
        "vehicle = (cluster_vehicle[4])[1]\n",
        "\n",
        "print(vehicle.vid,\" \", vehicle.t)\n",
        "\n",
        "tour = vehicle.tour\n",
        "# print(tour)\n",
        "\n",
        "prevx = tour[0].x\n",
        "prevy = tour[0].y\n",
        "\n",
        "n = len(tour)\n",
        "# print(n)\n",
        "plt.xlim(0,1000)\n",
        "plt.ylim(0,1000)\n",
        "print(\"(\",prevx,\",\",prevy,\")\",end=\"  \")\n",
        "for i in range(1,n):\n",
        "  # print(i)\n",
        "  plt.arrow(prevx, prevy, tour[i].pos.x-prevx, tour[i].pos.y- prevy, head_width=3, head_length=3, color='red')\n",
        "\n",
        "  prevx = tour[i].pos.x\n",
        "  prevy = tour[i].pos.y\n",
        "  print(\"(\",prevx,\",\",prevy,\")\",end=\"  \")\n",
        "plt.show()"
      ],
      "metadata": {
        "colab": {
          "base_uri": "https://localhost:8080/",
          "height": 324
        },
        "id": "T1Qq9zOuM5SF",
        "outputId": "160287d9-5cd6-4b74-a5a9-2681df2991af"
      },
      "execution_count": 35,
      "outputs": [
        {
          "output_type": "stream",
          "name": "stdout",
          "text": [
            "1   8338224.671078431\n",
            "( 500 , 500 )  ( 627 , 920 )  ( 733 , 790 )  ( 648 , 824 )  ( 629 , 961 )  ( 613 , 924 )  ( 588 , 869 )  ( 627 , 920 )  ( 733 , 790 )  ( 578 , 907 )  ( 648 , 824 )  ( 629 , 961 )  ( 613 , 924 )  ( 588 , 869 )  ( 627 , 920 )  ( 733 , 790 )  ( 578 , 907 )  ( 648 , 824 )  ( 629 , 961 )  ( 613 , 924 )  ( 588 , 869 )  ( 627 , 920 )  ( 733 , 790 )  ( 578 , 907 )  ( 648 , 824 )  ( 629 , 961 )  ( 613 , 924 )  ( 588 , 869 )  ( 627 , 920 )  ( 733 , 790 )  ( 578 , 907 )  ( 648 , 824 )  ( 629 , 961 )  ( 613 , 924 )  ( 588 , 869 )  ( 627 , 920 )  ( 733 , 790 )  ( 578 , 907 )  ( 648 , 824 )  ( 629 , 961 )  ( 613 , 924 )  ( 588 , 869 )  ( 627 , 920 )  ( 733 , 790 )  ( 578 , 907 )  ( 648 , 824 )  ( 629 , 961 )  ( 613 , 924 )  ( 588 , 869 )  ( 578 , 907 )  "
          ]
        },
        {
          "output_type": "display_data",
          "data": {
            "text/plain": [
              "<Figure size 432x288 with 1 Axes>"
            ],
            "image/png": "[encoded data removed]"
          },
          "metadata": {
            "needs_background": "light"
          }
        }
      ]
    },
    {
      "cell_type": "code",
      "source": [
        "#cluster- 0\n",
        "\n",
        "vehicle = (cluster_vehicle[5])[1]\n",
        "\n",
        "print(vehicle.vid,\" \", vehicle.t)\n",
        "\n",
        "tour = vehicle.tour\n",
        "# print(tour)\n",
        "\n",
        "prevx = tour[0].x\n",
        "prevy = tour[0].y\n",
        "\n",
        "n = len(tour)\n",
        "# print(n)\n",
        "plt.xlim(0,1000)\n",
        "plt.ylim(0,1000)\n",
        "print(\"(\",prevx,\",\",prevy,\")\",end=\"  \")\n",
        "for i in range(1,n):\n",
        "  # print(i)\n",
        "  plt.arrow(prevx, prevy, tour[i].pos.x-prevx, tour[i].pos.y- prevy, head_width=3, head_length=3, color='red')\n",
        "\n",
        "  prevx = tour[i].pos.x\n",
        "  prevy = tour[i].pos.y\n",
        "  print(\"(\",prevx,\",\",prevy,\")\",end=\"  \")\n",
        "plt.show()"
      ],
      "metadata": {
        "colab": {
          "base_uri": "https://localhost:8080/",
          "height": 324
        },
        "id": "vYf4pnXcM7yp",
        "outputId": "63e83577-ee98-47e3-cbe6-43d7bb5b1788"
      },
      "execution_count": 36,
      "outputs": [
        {
          "output_type": "stream",
          "name": "stdout",
          "text": [
            "0   13074227.889942152\n",
            "( 500 , 500 )  ( 476 , 771 )  ( 429 , 842 )  ( 476 , 771 )  ( 476 , 907 )  ( 555 , 907 )  ( 418 , 796 )  ( 507 , 882 )  ( 558 , 773 )  ( 429 , 842 )  ( 510 , 950 )  ( 476 , 771 )  ( 510 , 734 )  ( 476 , 907 )  ( 555 , 907 )  ( 418 , 796 )  ( 507 , 882 )  ( 558 , 773 )  ( 429 , 842 )  ( 487 , 845 )  ( 510 , 950 )  ( 476 , 771 )  ( 510 , 734 )  ( 516 , 888 )  ( 476 , 907 )  ( 555 , 907 )  ( 418 , 796 )  ( 507 , 882 )  ( 558 , 773 )  ( 429 , 842 )  ( 487 , 845 )  ( 510 , 950 )  ( 476 , 771 )  ( 510 , 734 )  ( 516 , 888 )  ( 476 , 907 )  ( 555 , 907 )  ( 418 , 796 )  ( 507 , 882 )  ( 558 , 773 )  ( 429 , 842 )  ( 487 , 845 )  ( 510 , 950 )  ( 476 , 771 )  ( 510 , 734 )  ( 516 , 888 )  ( 476 , 907 )  ( 555 , 907 )  ( 418 , 796 )  ( 507 , 882 )  ( 558 , 773 )  ( 429 , 842 )  ( 487 , 845 )  ( 476 , 771 )  ( 510 , 734 )  "
          ]
        },
        {
          "output_type": "display_data",
          "data": {
            "text/plain": [
              "<Figure size 432x288 with 1 Axes>"
            ],
            "image/png": "[encoded data removed]"
          },
          "metadata": {
            "needs_background": "light"
          }
        }
      ]
    },
    {
      "cell_type": "code",
      "source": [
        "#cluster- 0\n",
        "\n",
        "vehicle = (cluster_vehicle[6])[1]\n",
        "\n",
        "print(vehicle.vid,\" \", vehicle.t)\n",
        "\n",
        "tour = vehicle.tour\n",
        "# print(tour)\n",
        "\n",
        "prevx = tour[0].x\n",
        "prevy = tour[0].y\n",
        "\n",
        "n = len(tour)\n",
        "# print(n)\n",
        "plt.xlim(0,1000)\n",
        "plt.ylim(0,1000)\n",
        "print(\"(\",prevx,\",\",prevy,\")\",end=\"  \")\n",
        "for i in range(1,n):\n",
        "  # print(i)\n",
        "  plt.arrow(prevx, prevy, tour[i].pos.x-prevx, tour[i].pos.y- prevy, head_width=3, head_length=3, color='red')\n",
        "\n",
        "  prevx = tour[i].pos.x\n",
        "  prevy = tour[i].pos.y\n",
        "  print(\"(\",prevx,\",\",prevy,\")\",end=\"  \")\n",
        "plt.show()"
      ],
      "metadata": {
        "colab": {
          "base_uri": "https://localhost:8080/",
          "height": 324
        },
        "id": "HwA9TRbiM9-p",
        "outputId": "26915fda-0e16-489d-ea9c-818cf15ab2af"
      },
      "execution_count": 37,
      "outputs": [
        {
          "output_type": "stream",
          "name": "stdout",
          "text": [
            "5   25049551.019060574\n",
            "( 500 , 500 )  ( 106 , 485 )  ( 150 , 325 )  ( 106 , 485 )  ( 219 , 311 )  ( 196 , 444 )  ( 49 , 381 )  ( 115 , 484 )  ( 186 , 336 )  ( 51 , 400 )  ( 200 , 387 )  ( 272 , 356 )  ( 235 , 351 )  ( 224 , 272 )  ( 114 , 486 )  ( 418 , 532 )  ( 150 , 325 )  ( 106 , 485 )  ( 154 , 295 )  ( 219 , 311 )  ( 196 , 444 )  ( 49 , 381 )  ( 8 , 378 )  ( 229 , 449 )  ( 115 , 484 )  ( 186 , 336 )  ( 51 , 400 )  ( 33 , 375 )  ( 161 , 303 )  ( 200 , 387 )  ( 272 , 356 )  ( 235 , 351 )  ( 224 , 272 )  ( 141 , 361 )  ( 114 , 486 )  ( 418 , 532 )  ( 150 , 325 )  ( 293 , 341 )  ( 106 , 485 )  ( 154 , 295 )  ( 219 , 311 )  ( 196 , 444 )  ( 49 , 381 )  ( 8 , 378 )  ( 229 , 449 )  ( 115 , 484 )  ( 186 , 336 )  ( 51 , 400 )  ( 33 , 375 )  ( 161 , 303 )  ( 200 , 387 )  ( 272 , 356 )  ( 235 , 351 )  ( 224 , 272 )  ( 141 , 361 )  ( 114 , 486 )  ( 418 , 532 )  ( 150 , 325 )  ( 293 , 341 )  ( 106 , 485 )  ( 154 , 295 )  ( 219 , 311 )  ( 196 , 444 )  ( 49 , 381 )  ( 8 , 378 )  ( 229 , 449 )  ( 115 , 484 )  ( 186 , 336 )  ( 51 , 400 )  ( 33 , 375 )  ( 161 , 303 )  ( 200 , 387 )  ( 272 , 356 )  ( 235 , 351 )  ( 224 , 272 )  ( 141 , 361 )  ( 114 , 486 )  ( 418 , 532 )  ( 150 , 325 )  ( 293 , 341 )  ( 106 , 485 )  ( 154 , 295 )  ( 219 , 311 )  ( 196 , 444 )  ( 49 , 381 )  ( 8 , 378 )  ( 229 , 449 )  ( 115 , 484 )  ( 186 , 336 )  ( 51 , 400 )  ( 33 , 375 )  ( 161 , 303 )  ( 200 , 387 )  ( 272 , 356 )  ( 235 , 351 )  ( 224 , 272 )  ( 141 , 361 )  ( 114 , 486 )  ( 418 , 532 )  ( 150 , 325 )  ( 293 , 341 )  ( 106 , 485 )  ( 154 , 295 )  ( 219 , 311 )  ( 196 , 444 )  ( 49 , 381 )  ( 8 , 378 )  ( 229 , 449 )  ( 115 , 484 )  ( 186 , 336 )  ( 51 , 400 )  ( 33 , 375 )  ( 161 , 303 )  ( 200 , 387 )  ( 272 , 356 )  ( 235 , 351 )  ( 224 , 272 )  ( 141 , 361 )  ( 114 , 486 )  ( 418 , 532 )  ( 150 , 325 )  ( 293 , 341 )  ( 106 , 485 )  ( 154 , 295 )  ( 219 , 311 )  ( 196 , 444 )  ( 49 , 381 )  ( 8 , 378 )  ( 229 , 449 )  ( 115 , 484 )  ( 186 , 336 )  ( 51 , 400 )  ( 33 , 375 )  ( 161 , 303 )  ( 200 , 387 )  ( 272 , 356 )  ( 235 , 351 )  ( 224 , 272 )  ( 141 , 361 )  ( 114 , 486 )  ( 418 , 532 )  ( 150 , 325 )  ( 293 , 341 )  ( 106 , 485 )  ( 154 , 295 )  ( 219 , 311 )  ( 196 , 444 )  ( 229 , 449 )  "
          ]
        },
        {
          "output_type": "display_data",
          "data": {
            "text/plain": [
              "<Figure size 432x288 with 1 Axes>"
            ],
            "image/png": "[encoded data removed]"
          },
          "metadata": {
            "needs_background": "light"
          }
        }
      ]
    },
    {
      "cell_type": "code",
      "source": [
        "#cluster- 0\n",
        "\n",
        "vehicle = (cluster_vehicle[7])[1]\n",
        "\n",
        "print(vehicle.vid,\" \", vehicle.t)\n",
        "\n",
        "tour = vehicle.tour\n",
        "# print(tour)\n",
        "\n",
        "prevx = tour[0].x\n",
        "prevy = tour[0].y\n",
        "\n",
        "n = len(tour)\n",
        "# print(n)\n",
        "plt.xlim(0,1000)\n",
        "plt.ylim(0,1000)\n",
        "print(\"(\",prevx,\",\",prevy,\")\",end=\"  \")\n",
        "for i in range(1,n):\n",
        "  # print(i)\n",
        "  plt.arrow(prevx, prevy, tour[i].pos.x-prevx, tour[i].pos.y- prevy, head_width=3, head_length=3, color='red')\n",
        "\n",
        "  prevx = tour[i].pos.x\n",
        "  prevy = tour[i].pos.y\n",
        "  print(\"(\",prevx,\",\",prevy,\")\",end=\"  \")\n",
        "plt.show()"
      ],
      "metadata": {
        "colab": {
          "base_uri": "https://localhost:8080/",
          "height": 324
        },
        "id": "WNTjAnCMNAdv",
        "outputId": "6a4f4e5b-ad56-475c-8e9d-5e187134ecbe"
      },
      "execution_count": 38,
      "outputs": [
        {
          "output_type": "stream",
          "name": "stdout",
          "text": [
            "2   26197616.97482261\n",
            "( 500 , 500 )  ( 306 , 175 )  ( 306 , 175 )  ( 109 , 59 )  ( 144 , 106 )  ( 321 , 125 )  ( 175 , 241 )  ( 304 , 254 )  ( 209 , 172 )  ( 16 , 118 )  ( 46 , 82 )  ( 392 , 67 )  ( 459 , 6 )  ( 291 , 221 )  ( 29 , 29 )  ( 431 , 10 )  ( 66 , 218 )  ( 306 , 175 )  ( 109 , 59 )  ( 154 , 143 )  ( 144 , 106 )  ( 321 , 125 )  ( 179 , 240 )  ( 175 , 241 )  ( 304 , 254 )  ( 308 , 43 )  ( 156 , 172 )  ( 209 , 172 )  ( 16 , 118 )  ( 46 , 82 )  ( 392 , 67 )  ( 459 , 6 )  ( 60 , 137 )  ( 291 , 221 )  ( 29 , 29 )  ( 431 , 10 )  ( 66 , 218 )  ( 561 , 174 )  ( 306 , 175 )  ( 109 , 59 )  ( 154 , 143 )  ( 144 , 106 )  ( 321 , 125 )  ( 179 , 240 )  ( 175 , 241 )  ( 304 , 254 )  ( 308 , 43 )  ( 156 , 172 )  ( 209 , 172 )  ( 16 , 118 )  ( 46 , 82 )  ( 392 , 67 )  ( 459 , 6 )  ( 60 , 137 )  ( 150 , 153 )  ( 291 , 221 )  ( 29 , 29 )  ( 431 , 10 )  ( 66 , 218 )  ( 561 , 174 )  ( 306 , 175 )  ( 109 , 59 )  ( 154 , 143 )  ( 144 , 106 )  ( 321 , 125 )  ( 179 , 240 )  ( 175 , 241 )  ( 304 , 254 )  ( 308 , 43 )  ( 156 , 172 )  ( 209 , 172 )  ( 16 , 118 )  ( 46 , 82 )  ( 392 , 67 )  ( 459 , 6 )  ( 60 , 137 )  ( 150 , 153 )  ( 291 , 221 )  ( 29 , 29 )  ( 431 , 10 )  ( 66 , 218 )  ( 561 , 174 )  ( 306 , 175 )  ( 109 , 59 )  ( 154 , 143 )  ( 144 , 106 )  ( 321 , 125 )  ( 179 , 240 )  ( 175 , 241 )  ( 304 , 254 )  ( 308 , 43 )  ( 156 , 172 )  ( 209 , 172 )  ( 16 , 118 )  ( 46 , 82 )  ( 392 , 67 )  ( 459 , 6 )  ( 60 , 137 )  ( 150 , 153 )  ( 291 , 221 )  ( 29 , 29 )  ( 431 , 10 )  ( 66 , 218 )  ( 561 , 174 )  ( 306 , 175 )  ( 109 , 59 )  ( 154 , 143 )  ( 144 , 106 )  ( 321 , 125 )  ( 179 , 240 )  ( 175 , 241 )  ( 304 , 254 )  ( 308 , 43 )  ( 156 , 172 )  ( 209 , 172 )  ( 16 , 118 )  ( 46 , 82 )  ( 392 , 67 )  ( 459 , 6 )  ( 60 , 137 )  ( 150 , 153 )  ( 291 , 221 )  ( 29 , 29 )  ( 431 , 10 )  ( 66 , 218 )  ( 561 , 174 )  ( 306 , 175 )  ( 109 , 59 )  "
          ]
        },
        {
          "output_type": "display_data",
          "data": {
            "text/plain": [
              "<Figure size 432x288 with 1 Axes>"
            ],
            "image/png": "[encoded data removed]"
          },
          "metadata": {
            "needs_background": "light"
          }
        }
      ]
    },
    {
      "cell_type": "code",
      "source": [
        "#cluster- 0\n",
        "\n",
        "vehicle = (cluster_vehicle[8])[1]\n",
        "\n",
        "print(vehicle.vid,\" \", vehicle.t)\n",
        "\n",
        "tour = vehicle.tour\n",
        "# print(tour)\n",
        "\n",
        "prevx = tour[0].x\n",
        "prevy = tour[0].y\n",
        "\n",
        "n = len(tour)\n",
        "# print(n)\n",
        "plt.xlim(0,1000)\n",
        "plt.ylim(0,1000)\n",
        "print(\"(\",prevx,\",\",prevy,\")\",end=\"  \")\n",
        "for i in range(1,n):\n",
        "  # print(i)\n",
        "  plt.arrow(prevx, prevy, tour[i].pos.x-prevx, tour[i].pos.y- prevy, head_width=3, head_length=3, color='red')\n",
        "\n",
        "  prevx = tour[i].pos.x\n",
        "  prevy = tour[i].pos.y\n",
        "  print(\"(\",prevx,\",\",prevy,\")\",end=\"  \")\n",
        "plt.show()"
      ],
      "metadata": {
        "colab": {
          "base_uri": "https://localhost:8080/",
          "height": 324
        },
        "id": "iOKJX_4MNDNs",
        "outputId": "16524119-79a9-4cda-8116-ee113aa77ac3"
      },
      "execution_count": 39,
      "outputs": [
        {
          "output_type": "stream",
          "name": "stdout",
          "text": [
            "10   22656701.15162535\n",
            "( 500 , 500 )  ( 617 , 319 )  ( 454 , 95 )  ( 550 , 235 )  ( 465 , 285 )  ( 422 , 308 )  ( 617 , 319 )  ( 384 , 341 )  ( 428 , 482 )  ( 375 , 397 )  ( 535 , 459 )  ( 562 , 346 )  ( 437 , 293 )  ( 347 , 301 )  ( 454 , 95 )  ( 386 , 501 )  ( 434 , 202 )  ( 525 , 385 )  ( 513 , 234 )  ( 550 , 235 )  ( 465 , 285 )  ( 422 , 308 )  ( 617 , 319 )  ( 384 , 341 )  ( 428 , 482 )  ( 375 , 397 )  ( 426 , 337 )  ( 535 , 459 )  ( 562 , 346 )  ( 466 , 314 )  ( 437 , 293 )  ( 347 , 301 )  ( 454 , 95 )  ( 386 , 501 )  ( 434 , 202 )  ( 525 , 385 )  ( 513 , 234 )  ( 550 , 235 )  ( 501 , 279 )  ( 465 , 285 )  ( 422 , 308 )  ( 617 , 319 )  ( 384 , 341 )  ( 428 , 482 )  ( 375 , 397 )  ( 426 , 337 )  ( 535 , 459 )  ( 562 , 346 )  ( 466 , 314 )  ( 437 , 293 )  ( 347 , 301 )  ( 454 , 95 )  ( 386 , 501 )  ( 434 , 202 )  ( 525 , 385 )  ( 513 , 234 )  ( 550 , 235 )  ( 501 , 279 )  ( 465 , 285 )  ( 422 , 308 )  ( 617 , 319 )  ( 384 , 341 )  ( 428 , 482 )  ( 375 , 397 )  ( 426 , 337 )  ( 535 , 459 )  ( 562 , 346 )  ( 466 , 314 )  ( 437 , 293 )  ( 347 , 301 )  ( 454 , 95 )  ( 386 , 501 )  ( 434 , 202 )  ( 525 , 385 )  ( 513 , 234 )  ( 550 , 235 )  ( 501 , 279 )  ( 465 , 285 )  ( 422 , 308 )  ( 617 , 319 )  ( 384 , 341 )  ( 428 , 482 )  ( 375 , 397 )  ( 426 , 337 )  ( 535 , 459 )  ( 562 , 346 )  ( 466 , 314 )  ( 437 , 293 )  ( 347 , 301 )  ( 454 , 95 )  ( 386 , 501 )  ( 434 , 202 )  ( 525 , 385 )  ( 513 , 234 )  ( 550 , 235 )  ( 501 , 279 )  ( 465 , 285 )  ( 422 , 308 )  ( 617 , 319 )  ( 384 , 341 )  ( 428 , 482 )  ( 375 , 397 )  ( 426 , 337 )  ( 535 , 459 )  ( 562 , 346 )  ( 466 , 314 )  ( 437 , 293 )  ( 347 , 301 )  ( 454 , 95 )  ( 386 , 501 )  ( 434 , 202 )  ( 525 , 385 )  ( 513 , 234 )  ( 550 , 235 )  ( 501 , 279 )  ( 465 , 285 )  ( 422 , 308 )  ( 617 , 319 )  ( 384 , 341 )  ( 428 , 482 )  ( 375 , 397 )  ( 426 , 337 )  ( 535 , 459 )  ( 562 , 346 )  ( 466 , 314 )  ( 437 , 293 )  ( 347 , 301 )  ( 454 , 95 )  ( 386 , 501 )  ( 434 , 202 )  ( 525 , 385 )  ( 513 , 234 )  ( 550 , 235 )  ( 501 , 279 )  ( 465 , 285 )  ( 422 , 308 )  ( 617 , 319 )  ( 384 , 341 )  ( 428 , 482 )  ( 375 , 397 )  ( 426 , 337 )  ( 535 , 459 )  ( 562 , 346 )  ( 466 , 314 )  ( 437 , 293 )  ( 525 , 385 )  "
          ]
        },
        {
          "output_type": "display_data",
          "data": {
            "text/plain": [
              "<Figure size 432x288 with 1 Axes>"
            ],
            "image/png": "[encoded data removed]"
          },
          "metadata": {
            "needs_background": "light"
          }
        }
      ]
    },
    {
      "cell_type": "code",
      "source": [
        "#cluster- 0\n",
        "\n",
        "vehicle = (cluster_vehicle[9])[1]\n",
        "\n",
        "print(vehicle.vid,\" \", vehicle.t)\n",
        "\n",
        "tour = vehicle.tour\n",
        "# print(tour)\n",
        "\n",
        "prevx = tour[0].x\n",
        "prevy = tour[0].y\n",
        "\n",
        "n = len(tour)\n",
        "# print(n)\n",
        "plt.xlim(0,1000)\n",
        "plt.ylim(0,1000)\n",
        "print(\"(\",prevx,\",\",prevy,\")\",end=\"  \")\n",
        "for i in range(1,n):\n",
        "  # print(i)\n",
        "  plt.arrow(prevx, prevy, tour[i].pos.x-prevx, tour[i].pos.y- prevy, head_width=3, head_length=3, color='red')\n",
        "\n",
        "  prevx = tour[i].pos.x\n",
        "  prevy = tour[i].pos.y\n",
        "  print(\"(\",prevx,\",\",prevy,\")\",end=\"  \")\n",
        "plt.show()"
      ],
      "metadata": {
        "colab": {
          "base_uri": "https://localhost:8080/",
          "height": 324
        },
        "id": "wiyUNljRNFsE",
        "outputId": "fc4850b1-d9bf-4773-911d-a0ce39c4c43b"
      },
      "execution_count": 40,
      "outputs": [
        {
          "output_type": "stream",
          "name": "stdout",
          "text": [
            "11   21388272.84642543\n",
            "( 500 , 500 )  ( 10 , 504 )  ( 43 , 585 )  ( 42 , 734 )  ( 157 , 630 )  ( 10 , 504 )  ( 72 , 526 )  ( 237 , 531 )  ( 59 , 573 )  ( 52 , 681 )  ( 272 , 547 )  ( 286 , 613 )  ( 231 , 633 )  ( 287 , 655 )  ( 187 , 672 )  ( 80 , 610 )  ( 43 , 585 )  ( 18 , 563 )  ( 42 , 734 )  ( 68 , 581 )  ( 157 , 630 )  ( 10 , 504 )  ( 72 , 526 )  ( 237 , 531 )  ( 59 , 573 )  ( 52 , 681 )  ( 272 , 547 )  ( 286 , 613 )  ( 231 , 633 )  ( 122 , 645 )  ( 287 , 655 )  ( 187 , 672 )  ( 80 , 610 )  ( 43 , 585 )  ( 18 , 563 )  ( 42 , 734 )  ( 68 , 581 )  ( 157 , 630 )  ( 10 , 504 )  ( 72 , 526 )  ( 237 , 531 )  ( 59 , 573 )  ( 52 , 681 )  ( 272 , 547 )  ( 286 , 613 )  ( 231 , 633 )  ( 122 , 645 )  ( 287 , 655 )  ( 187 , 672 )  ( 80 , 610 )  ( 43 , 585 )  ( 18 , 563 )  ( 42 , 734 )  ( 68 , 581 )  ( 157 , 630 )  ( 10 , 504 )  ( 72 , 526 )  ( 237 , 531 )  ( 59 , 573 )  ( 52 , 681 )  ( 272 , 547 )  ( 286 , 613 )  ( 231 , 633 )  ( 122 , 645 )  ( 287 , 655 )  ( 187 , 672 )  ( 129 , 901 )  ( 80 , 610 )  ( 43 , 585 )  ( 18 , 563 )  ( 42 , 734 )  ( 68 , 581 )  ( 157 , 630 )  ( 10 , 504 )  ( 72 , 526 )  ( 237 , 531 )  ( 59 , 573 )  ( 52 , 681 )  ( 272 , 547 )  ( 286 , 613 )  ( 231 , 633 )  ( 122 , 645 )  ( 287 , 655 )  ( 187 , 672 )  ( 129 , 901 )  ( 80 , 610 )  ( 43 , 585 )  ( 18 , 563 )  ( 42 , 734 )  ( 68 , 581 )  ( 157 , 630 )  ( 10 , 504 )  ( 72 , 526 )  ( 237 , 531 )  ( 59 , 573 )  "
          ]
        },
        {
          "output_type": "display_data",
          "data": {
            "text/plain": [
              "<Figure size 432x288 with 1 Axes>"
            ],
            "image/png": "[encoded data removed]"
          },
          "metadata": {
            "needs_background": "light"
          }
        }
      ]
    },
    {
      "cell_type": "code",
      "source": [
        "#cluster- 0\n",
        "\n",
        "vehicle = (cluster_vehicle[10])[1]\n",
        "\n",
        "print(vehicle.vid,\" \", vehicle.t)\n",
        "\n",
        "tour = vehicle.tour\n",
        "# print(tour)\n",
        "\n",
        "prevx = tour[0].x\n",
        "prevy = tour[0].y\n",
        "\n",
        "n = len(tour)\n",
        "# print(n)\n",
        "plt.xlim(0,1000)\n",
        "plt.ylim(0,1000)\n",
        "print(\"(\",prevx,\",\",prevy,\")\",end=\"  \")\n",
        "for i in range(1,n):\n",
        "  # print(i)\n",
        "  plt.arrow(prevx, prevy, tour[i].pos.x-prevx, tour[i].pos.y- prevy, head_width=3, head_length=3, color='red')\n",
        "\n",
        "  prevx = tour[i].pos.x\n",
        "  prevy = tour[i].pos.y\n",
        "  print(\"(\",prevx,\",\",prevy,\")\",end=\"  \")\n",
        "plt.show()"
      ],
      "metadata": {
        "colab": {
          "base_uri": "https://localhost:8080/",
          "height": 324
        },
        "id": "nG19XO7oNH-X",
        "outputId": "d3350849-c364-4c91-ea27-a06b1aed4f97"
      },
      "execution_count": 41,
      "outputs": [
        {
          "output_type": "stream",
          "name": "stdout",
          "text": [
            "4   11871577.306303252\n",
            "( 500 , 500 )  ( 50 , 877 )  ( 138 , 923 )  ( 50 , 877 )  ( 238 , 758 )  ( 207 , 795 )  ( 94 , 928 )  ( 171 , 879 )  ( 316 , 871 )  ( 138 , 923 )  ( 84 , 903 )  ( 50 , 877 )  ( 238 , 758 )  ( 221 , 832 )  ( 207 , 795 )  ( 94 , 928 )  ( 171 , 879 )  ( 162 , 858 )  ( 316 , 871 )  ( 138 , 923 )  ( 84 , 903 )  ( 50 , 877 )  ( 238 , 758 )  ( 221 , 832 )  ( 207 , 795 )  ( 94 , 928 )  ( 171 , 879 )  ( 162 , 858 )  ( 316 , 871 )  ( 138 , 923 )  ( 84 , 903 )  ( 50 , 877 )  ( 238 , 758 )  ( 221 , 832 )  ( 207 , 795 )  ( 94 , 928 )  ( 171 , 879 )  ( 162 , 858 )  ( 316 , 871 )  ( 138 , 923 )  ( 84 , 903 )  ( 50 , 877 )  ( 238 , 758 )  ( 221 , 832 )  ( 207 , 795 )  ( 94 , 928 )  ( 171 , 879 )  ( 162 , 858 )  ( 316 , 871 )  "
          ]
        },
        {
          "output_type": "display_data",
          "data": {
            "text/plain": [
              "<Figure size 432x288 with 1 Axes>"
            ],
            "image/png": "[encoded data removed]"
          },
          "metadata": {
            "needs_background": "light"
          }
        }
      ]
    },
    {
      "cell_type": "code",
      "source": [
        "#cluster- 0\n",
        "\n",
        "vehicle = (cluster_vehicle[11])[1]\n",
        "\n",
        "print(vehicle.vid,\" \", vehicle.t)\n",
        "\n",
        "tour = vehicle.tour\n",
        "# print(tour)\n",
        "\n",
        "prevx = tour[0].x\n",
        "prevy = tour[0].y\n",
        "\n",
        "n = len(tour)\n",
        "# print(n)\n",
        "plt.xlim(0,1000)\n",
        "plt.ylim(0,1000)\n",
        "print(\"(\",prevx,\",\",prevy,\")\",end=\"  \")\n",
        "for i in range(1,n):\n",
        "  # print(i)\n",
        "  plt.arrow(prevx, prevy, tour[i].pos.x-prevx, tour[i].pos.y- prevy, head_width=3, head_length=3, color='red')\n",
        "\n",
        "  prevx = tour[i].pos.x\n",
        "  prevy = tour[i].pos.y\n",
        "  print(\"(\",prevx,\",\",prevy,\")\",end=\"  \")\n",
        "plt.show()"
      ],
      "metadata": {
        "colab": {
          "base_uri": "https://localhost:8080/",
          "height": 324
        },
        "id": "k1rI9EMrNKNb",
        "outputId": "4ac98433-bf79-43ba-e24a-bae4930c9035"
      },
      "execution_count": 42,
      "outputs": [
        {
          "output_type": "stream",
          "name": "stdout",
          "text": [
            "9   37956054.25663628\n",
            "( 500 , 500 )  ( 807 , 109 )  ( 681 , 200 )  ( 945 , 141 )  ( 713 , 35 )  ( 640 , 28 )  ( 635 , 128 )  ( 661 , 124 )  ( 822 , 232 )  ( 821 , 9 )  ( 718 , 167 )  ( 807 , 109 )  ( 793 , 314 )  ( 932 , 107 )  ( 754 , 235 )  ( 848 , 62 )  ( 714 , 64 )  ( 806 , 202 )  ( 729 , 269 )  ( 776 , 319 )  ( 681 , 200 )  ( 702 , 295 )  ( 945 , 141 )  ( 713 , 35 )  ( 830 , 189 )  ( 640 , 28 )  ( 635 , 128 )  ( 568 , 144 )  ( 653 , 47 )  ( 661 , 124 )  ( 822 , 232 )  ( 619 , 149 )  ( 821 , 9 )  ( 718 , 167 )  ( 915 , 82 )  ( 807 , 109 )  ( 793 , 314 )  ( 932 , 107 )  ( 704 , 140 )  ( 754 , 235 )  ( 848 , 62 )  ( 714 , 64 )  ( 756 , 176 )  ( 806 , 202 )  ( 729 , 269 )  ( 573 , 83 )  ( 747 , 181 )  ( 776 , 319 )  ( 803 , 34 )  ( 681 , 200 )  ( 702 , 295 )  ( 945 , 141 )  ( 713 , 35 )  ( 830 , 189 )  ( 640 , 28 )  ( 635 , 128 )  ( 568 , 144 )  ( 653 , 47 )  ( 536 , 77 )  ( 661 , 124 )  ( 822 , 232 )  ( 619 , 149 )  ( 821 , 9 )  ( 718 , 167 )  ( 915 , 82 )  ( 592 , 176 )  ( 807 , 109 )  ( 793 , 314 )  ( 932 , 107 )  ( 704 , 140 )  ( 754 , 235 )  ( 848 , 62 )  ( 714 , 64 )  ( 756 , 176 )  ( 806 , 202 )  ( 729 , 269 )  ( 573 , 83 )  ( 747 , 181 )  ( 776 , 319 )  ( 803 , 34 )  ( 681 , 200 )  ( 702 , 295 )  ( 945 , 141 )  ( 601 , 225 )  ( 713 , 35 )  ( 830 , 189 )  ( 640 , 28 )  ( 635 , 128 )  ( 568 , 144 )  ( 653 , 47 )  ( 536 , 77 )  ( 661 , 124 )  ( 822 , 232 )  ( 619 , 149 )  ( 821 , 9 )  ( 718 , 167 )  ( 915 , 82 )  ( 592 , 176 )  ( 807 , 109 )  ( 793 , 314 )  ( 932 , 107 )  ( 704 , 140 )  ( 754 , 235 )  ( 848 , 62 )  ( 714 , 64 )  ( 756 , 176 )  ( 806 , 202 )  ( 729 , 269 )  ( 573 , 83 )  ( 747 , 181 )  ( 776 , 319 )  ( 803 , 34 )  ( 681 , 200 )  ( 702 , 295 )  ( 945 , 141 )  ( 601 , 225 )  ( 713 , 35 )  ( 830 , 189 )  ( 640 , 28 )  ( 635 , 128 )  ( 568 , 144 )  ( 653 , 47 )  ( 536 , 77 )  ( 661 , 124 )  ( 822 , 232 )  ( 619 , 149 )  ( 821 , 9 )  ( 718 , 167 )  ( 915 , 82 )  ( 592 , 176 )  ( 807 , 109 )  ( 793 , 314 )  ( 932 , 107 )  ( 704 , 140 )  ( 754 , 235 )  ( 848 , 62 )  ( 714 , 64 )  ( 756 , 176 )  ( 806 , 202 )  ( 729 , 269 )  ( 573 , 83 )  ( 747 , 181 )  ( 776 , 319 )  ( 803 , 34 )  ( 681 , 200 )  ( 702 , 295 )  ( 945 , 141 )  ( 601 , 225 )  ( 568 , 144 )  "
          ]
        },
        {
          "output_type": "display_data",
          "data": {
            "text/plain": [
              "<Figure size 432x288 with 1 Axes>"
            ],
            "image/png": "[encoded data removed]"
          },
          "metadata": {
            "needs_background": "light"
          }
        }
      ]
    },
    {
      "cell_type": "code",
      "source": [
        ""
      ],
      "metadata": {
        "id": "owu7w7QvacN3"
      },
      "execution_count": null,
      "outputs": []
    }
  ]
}